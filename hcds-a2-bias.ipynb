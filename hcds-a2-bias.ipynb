{
 "cells": [
  {
   "cell_type": "markdown",
   "metadata": {},
   "source": [
    "# A2: Bias in Data\n",
    "\n",
    "Frank Chen\n",
    "\n",
    "This code is made available for reuse under a [CC0 license](https://creativecommons.org/share-your-work/public-domain/cc0/).\n",
    "\n",
    "## Cleaning the Data"
   ]
  },
  {
   "cell_type": "code",
   "execution_count": 1,
   "metadata": {
    "collapsed": true
   },
   "outputs": [],
   "source": [
    "import pandas as pd\n",
    "import numpy as np\n",
    "import requests\n",
    "import json\n",
    "import copy as cp"
   ]
  },
  {
   "cell_type": "code",
   "execution_count": 2,
   "metadata": {
    "collapsed": false
   },
   "outputs": [],
   "source": [
    "# Cleaning page_data.csv\n",
    "page_data = pd.read_csv('page_data.csv')"
   ]
  },
  {
   "cell_type": "code",
   "execution_count": 3,
   "metadata": {
    "collapsed": false
   },
   "outputs": [],
   "source": [
    "# Removing rows with 'Template'\n",
    "page_data = page_data[~page_data.page.str.contains(\"Template\")]"
   ]
  },
  {
   "cell_type": "code",
   "execution_count": 4,
   "metadata": {
    "collapsed": false
   },
   "outputs": [],
   "source": [
    "# Save file\n",
    "page_data.to_csv('page_data_clean.csv', index=False)"
   ]
  },
  {
   "cell_type": "code",
   "execution_count": 5,
   "metadata": {
    "collapsed": false
   },
   "outputs": [
    {
     "data": {
      "text/plain": [
       "414"
      ]
     },
     "execution_count": 5,
     "metadata": {},
     "output_type": "execute_result"
    }
   ],
   "source": [
    "# Cleaning WPDS_2018_data.csv\n",
    "wpds_data = pd.read_csv('WPDS_2018_data.csv')\n",
    "wpds_data.size"
   ]
  },
  {
   "cell_type": "code",
   "execution_count": 6,
   "metadata": {
    "collapsed": false
   },
   "outputs": [],
   "source": [
    "# Remove regions\n",
    "wpds_data = wpds_data[~wpds_data.Geography.str.isupper()]"
   ]
  },
  {
   "cell_type": "code",
   "execution_count": 7,
   "metadata": {
    "collapsed": false
   },
   "outputs": [],
   "source": [
    "# Save file\n",
    "wpds_data.to_csv('WPDS_2018_data_clean.csv', index=False)"
   ]
  },
  {
   "cell_type": "code",
   "execution_count": 8,
   "metadata": {
    "collapsed": false
   },
   "outputs": [],
   "source": [
    "# Extract Regional Data\n",
    "wpds_data_tmp = pd.read_csv('WPDS_2018_data.csv')\n",
    "wpds_data_tmp = wpds_data_tmp[wpds_data_tmp.Geography.str.isupper()]\n",
    "wpds_data_tmp.to_csv('WPDS_2018_region_data.csv', index=False)"
   ]
  },
  {
   "cell_type": "markdown",
   "metadata": {},
   "source": [
    "## Getting article quality predictions"
   ]
  },
  {
   "cell_type": "code",
   "execution_count": 9,
   "metadata": {
    "collapsed": false
   },
   "outputs": [],
   "source": [
    "headers = {'User-Agent' : 'https://github.com/kfrankc', 'From' : 'kfrankc@uw.edu'}\n",
    "\n",
    "def get_ores_data(revision_ids, headers, rev_id):\n",
    "    \n",
    "    # Define the endpoint\n",
    "    endpoint = 'https://ores.wikimedia.org/v3/scores/{project}/?models={model}&revids={revids}'\n",
    "    \n",
    "    # Specify the parameters - smushing all the revision IDs together separated by | marks.\n",
    "    # Yes, 'smush' is a technical term, trust me I'm a scientist.\n",
    "    # What do you mean \"but people trusting scientists regularly goes horribly wrong\" who taught you tha- oh.  \n",
    "    params = {'project' : 'enwiki',\n",
    "              'model'   : 'wp10',\n",
    "              'revids'  : '|'.join(str(x) for x in revision_ids)\n",
    "              }\n",
    "    api_call = requests.get(endpoint.format(**params))\n",
    "    response = api_call.json()\n",
    "    if \"error\" in response[\"enwiki\"][\"scores\"][str(rev_id)]['wp10']:\n",
    "        print(\"Failed to process; rev_id: {}\".format(rev_id))\n",
    "        return \"error\"\n",
    "    else:\n",
    "        article_quality = response[\"enwiki\"][\"scores\"][str(rev_id)]['wp10']['score']['prediction']\n",
    "#     except Exception as e:\n",
    "#         print(\"Error {} processing rev_id: {}\".format(e, rev_id))\n",
    "        return article_quality\n",
    "#     print(json.dumps(response, indent=4, sort_keys=True))"
   ]
  },
  {
   "cell_type": "code",
   "execution_count": 10,
   "metadata": {
    "collapsed": false
   },
   "outputs": [
    {
     "data": {
      "text/plain": [
       "(46701, 4)"
      ]
     },
     "execution_count": 10,
     "metadata": {},
     "output_type": "execute_result"
    }
   ],
   "source": [
    "# Add article_quality column to page_data pandas object\n",
    "# Loop through each rev_id\n",
    "# Get article quality\n",
    "# Append to corresponding article_quality column\n",
    "\n",
    "page_data_tmp = pd.read_csv('page_data_clean.csv')\n",
    "page_data_tmp[\"article_quality\"] = \"\"\n",
    "page_data_tmp.shape"
   ]
  },
  {
   "cell_type": "code",
   "execution_count": 11,
   "metadata": {
    "collapsed": false
   },
   "outputs": [
    {
     "name": "stdout",
     "output_type": "stream",
     "text": [
      "Row: 0, row_value: 355319463\n",
      "Article quality: Stub\n",
      "Row: 1000, row_value: 705737107\n",
      "Article quality: Start\n",
      "Row: 2000, row_value: 711506001\n",
      "Article quality: Stub\n",
      "Row: 3000, row_value: 715574067\n",
      "Article quality: Stub\n",
      "Row: 4000, row_value: 719256142\n",
      "Article quality: Start\n",
      "Row: 5000, row_value: 722984083\n",
      "Article quality: Stub\n",
      "Row: 6000, row_value: 726608152\n",
      "Article quality: Stub\n",
      "Row: 7000, row_value: 733933703\n",
      "Article quality: Stub\n",
      "Row: 8000, row_value: 739516888\n",
      "Article quality: Stub\n",
      "Row: 9000, row_value: 746096776\n",
      "Article quality: Stub\n",
      "Row: 10000, row_value: 750138485\n",
      "Article quality: Stub\n",
      "Row: 11000, row_value: 756588999\n",
      "Article quality: Start\n",
      "Row: 12000, row_value: 757217094\n",
      "Article quality: Stub\n",
      "Row: 13000, row_value: 758716972\n",
      "Article quality: Stub\n",
      "Row: 14000, row_value: 763763300\n",
      "Article quality: Stub\n",
      "Row: 15000, row_value: 768011808\n",
      "Article quality: Stub\n",
      "Row: 16000, row_value: 771454540\n",
      "Article quality: Start\n",
      "Row: 17000, row_value: 775251439\n",
      "Article quality: Stub\n",
      "Row: 18000, row_value: 778458989\n",
      "Article quality: Start\n",
      "Row: 19000, row_value: 780701356\n",
      "Article quality: Stub\n",
      "Row: 20000, row_value: 783381425\n",
      "Article quality: Stub\n",
      "Row: 21000, row_value: 785485183\n",
      "Article quality: Stub\n",
      "Row: 22000, row_value: 787355217\n",
      "Article quality: Start\n",
      "Row: 23000, row_value: 788310022\n",
      "Article quality: Stub\n",
      "Row: 24000, row_value: 788802931\n",
      "Article quality: Stub\n",
      "Row: 25000, row_value: 788925517\n",
      "Article quality: Stub\n",
      "Row: 26000, row_value: 789270816\n",
      "Article quality: Stub\n",
      "Row: 27000, row_value: 789332144\n",
      "Article quality: Stub\n",
      "Row: 28000, row_value: 790006252\n",
      "Article quality: Start\n",
      "Row: 29000, row_value: 790975847\n",
      "Article quality: Start\n",
      "Row: 30000, row_value: 792428154\n",
      "Article quality: Stub\n",
      "Row: 31000, row_value: 793984123\n",
      "Article quality: Start\n",
      "Row: 32000, row_value: 795361713\n",
      "Article quality: Start\n",
      "Row: 33000, row_value: 796600327\n",
      "Article quality: Start\n",
      "Row: 34000, row_value: 797632717\n",
      "Article quality: Stub\n",
      "Row: 35000, row_value: 798623020\n",
      "Article quality: Start\n",
      "Row: 36000, row_value: 799547288\n",
      "Article quality: Start\n",
      "Row: 37000, row_value: 800344915\n",
      "Article quality: Start\n",
      "Row: 38000, row_value: 801240297\n",
      "Article quality: Start\n",
      "Row: 39000, row_value: 802028460\n",
      "Article quality: C\n",
      "Row: 40000, row_value: 802855951\n",
      "Article quality: Start\n",
      "Row: 41000, row_value: 803876378\n",
      "Article quality: Stub\n",
      "Row: 42000, row_value: 804678140\n",
      "Article quality: Stub\n",
      "Row: 43000, row_value: 805343839\n",
      "Article quality: Stub\n",
      "Row: 44000, row_value: 806007037\n",
      "Article quality: C\n",
      "Row: 45000, row_value: 806627526\n",
      "Article quality: Start\n",
      "Row: 46000, row_value: 807191208\n",
      "Article quality: Start\n",
      "Row: 46435, row_value: 807395895\n",
      "Article quality: FA\n"
     ]
    }
   ],
   "source": [
    "for i, row_value in page_data_tmp['rev_id'].iteritems():\n",
    "    if (i % 1000 == 0 or i == 46435):\n",
    "        print(\"Row: {}, row_value: {}\".format(i, row_value))\n",
    "        example_ids = [row_value]\n",
    "        article_quality = get_ores_data(example_ids, headers, row_value)\n",
    "        print(\"Article quality: {}\".format(article_quality))\n",
    "    try:\n",
    "        page_data_tmp.iloc[i, page_data_tmp.columns.get_loc(\"article_quality\")] = article_quality\n",
    "    except:\n",
    "        print(\"Error happened at: \".format(i))"
   ]
  },
  {
   "cell_type": "code",
   "execution_count": 12,
   "metadata": {
    "collapsed": false
   },
   "outputs": [
    {
     "data": {
      "text/html": [
       "<div>\n",
       "<style scoped>\n",
       "    .dataframe tbody tr th:only-of-type {\n",
       "        vertical-align: middle;\n",
       "    }\n",
       "\n",
       "    .dataframe tbody tr th {\n",
       "        vertical-align: top;\n",
       "    }\n",
       "\n",
       "    .dataframe thead th {\n",
       "        text-align: right;\n",
       "    }\n",
       "</style>\n",
       "<table border=\"1\" class=\"dataframe\">\n",
       "  <thead>\n",
       "    <tr style=\"text-align: right;\">\n",
       "      <th></th>\n",
       "      <th>page</th>\n",
       "      <th>country</th>\n",
       "      <th>rev_id</th>\n",
       "      <th>article_quality</th>\n",
       "    </tr>\n",
       "  </thead>\n",
       "  <tbody>\n",
       "    <tr>\n",
       "      <th>46435</th>\n",
       "      <td>Franklin D. Roosevelt</td>\n",
       "      <td>United States</td>\n",
       "      <td>807395895</td>\n",
       "      <td>FA</td>\n",
       "    </tr>\n",
       "  </tbody>\n",
       "</table>\n",
       "</div>"
      ],
      "text/plain": [
       "                        page        country     rev_id article_quality\n",
       "46435  Franklin D. Roosevelt  United States  807395895              FA"
      ]
     },
     "execution_count": 12,
     "metadata": {},
     "output_type": "execute_result"
    }
   ],
   "source": [
    "page_data_tmp.loc[page_data_tmp['page'] == 'Franklin D. Roosevelt']"
   ]
  },
  {
   "cell_type": "code",
   "execution_count": 13,
   "metadata": {
    "collapsed": false
   },
   "outputs": [],
   "source": [
    "# Reorder the dataset\n",
    "page_data_tmp.columns = ['article_name', 'country', 'revision_id', 'article_quality']"
   ]
  },
  {
   "cell_type": "code",
   "execution_count": 14,
   "metadata": {
    "collapsed": false
   },
   "outputs": [
    {
     "data": {
      "text/html": [
       "<div>\n",
       "<style scoped>\n",
       "    .dataframe tbody tr th:only-of-type {\n",
       "        vertical-align: middle;\n",
       "    }\n",
       "\n",
       "    .dataframe tbody tr th {\n",
       "        vertical-align: top;\n",
       "    }\n",
       "\n",
       "    .dataframe thead th {\n",
       "        text-align: right;\n",
       "    }\n",
       "</style>\n",
       "<table border=\"1\" class=\"dataframe\">\n",
       "  <thead>\n",
       "    <tr style=\"text-align: right;\">\n",
       "      <th></th>\n",
       "      <th>country</th>\n",
       "      <th>article_name</th>\n",
       "      <th>revision_id</th>\n",
       "      <th>article_quality</th>\n",
       "    </tr>\n",
       "  </thead>\n",
       "  <tbody>\n",
       "    <tr>\n",
       "      <th>46435</th>\n",
       "      <td>United States</td>\n",
       "      <td>Franklin D. Roosevelt</td>\n",
       "      <td>807395895</td>\n",
       "      <td>FA</td>\n",
       "    </tr>\n",
       "  </tbody>\n",
       "</table>\n",
       "</div>"
      ],
      "text/plain": [
       "             country           article_name  revision_id article_quality\n",
       "46435  United States  Franklin D. Roosevelt    807395895              FA"
      ]
     },
     "execution_count": 14,
     "metadata": {},
     "output_type": "execute_result"
    }
   ],
   "source": [
    "cols = ['country', 'article_name', 'revision_id', 'article_quality']\n",
    "page_data_tmp = page_data_tmp[cols]\n",
    "page_data_tmp.to_csv('page_data_tmp.csv', index=False)\n",
    "page_data_tmp.head()\n",
    "page_data_tmp.loc[page_data_tmp['article_name'] == 'Franklin D. Roosevelt']"
   ]
  },
  {
   "cell_type": "code",
   "execution_count": 15,
   "metadata": {
    "collapsed": false
   },
   "outputs": [],
   "source": [
    "# Merge with population data wp_wpds_politicians_by_country.csv\n",
    "page_data_tmp = pd.read_csv('page_data_tmp.csv')\n",
    "wpds_data_tmp = pd.read_csv('WPDS_2018_data_clean.csv')"
   ]
  },
  {
   "cell_type": "code",
   "execution_count": 16,
   "metadata": {
    "collapsed": false
   },
   "outputs": [],
   "source": [
    "result_left_join = pd.merge(page_data_tmp, wpds_data_tmp, how='left', left_on='country', right_on='Geography')"
   ]
  },
  {
   "cell_type": "code",
   "execution_count": 17,
   "metadata": {
    "collapsed": false
   },
   "outputs": [
    {
     "data": {
      "text/html": [
       "<div>\n",
       "<style scoped>\n",
       "    .dataframe tbody tr th:only-of-type {\n",
       "        vertical-align: middle;\n",
       "    }\n",
       "\n",
       "    .dataframe tbody tr th {\n",
       "        vertical-align: top;\n",
       "    }\n",
       "\n",
       "    .dataframe thead th {\n",
       "        text-align: right;\n",
       "    }\n",
       "</style>\n",
       "<table border=\"1\" class=\"dataframe\">\n",
       "  <thead>\n",
       "    <tr style=\"text-align: right;\">\n",
       "      <th></th>\n",
       "      <th>country</th>\n",
       "      <th>article_name</th>\n",
       "      <th>revision_id</th>\n",
       "      <th>article_quality</th>\n",
       "      <th>Geography</th>\n",
       "      <th>Population mid-2018 (millions)</th>\n",
       "    </tr>\n",
       "  </thead>\n",
       "  <tbody>\n",
       "    <tr>\n",
       "      <th>46435</th>\n",
       "      <td>United States</td>\n",
       "      <td>Franklin D. Roosevelt</td>\n",
       "      <td>807395895</td>\n",
       "      <td>FA</td>\n",
       "      <td>United States</td>\n",
       "      <td>328</td>\n",
       "    </tr>\n",
       "  </tbody>\n",
       "</table>\n",
       "</div>"
      ],
      "text/plain": [
       "             country           article_name  revision_id article_quality  \\\n",
       "46435  United States  Franklin D. Roosevelt    807395895              FA   \n",
       "\n",
       "           Geography Population mid-2018 (millions)  \n",
       "46435  United States                            328  "
      ]
     },
     "execution_count": 17,
     "metadata": {},
     "output_type": "execute_result"
    }
   ],
   "source": [
    "result_left_join.head()\n",
    "result_left_join.loc[result_left_join['article_name'] == 'Franklin D. Roosevelt']"
   ]
  },
  {
   "cell_type": "code",
   "execution_count": 18,
   "metadata": {
    "collapsed": false
   },
   "outputs": [],
   "source": [
    "result_left_join[pd.isnull(result_left_join['Geography'])].to_csv('unmerged_data.csv')"
   ]
  },
  {
   "cell_type": "code",
   "execution_count": 19,
   "metadata": {
    "collapsed": false
   },
   "outputs": [
    {
     "data": {
      "text/html": [
       "<div>\n",
       "<style scoped>\n",
       "    .dataframe tbody tr th:only-of-type {\n",
       "        vertical-align: middle;\n",
       "    }\n",
       "\n",
       "    .dataframe tbody tr th {\n",
       "        vertical-align: top;\n",
       "    }\n",
       "\n",
       "    .dataframe thead th {\n",
       "        text-align: right;\n",
       "    }\n",
       "</style>\n",
       "<table border=\"1\" class=\"dataframe\">\n",
       "  <thead>\n",
       "    <tr style=\"text-align: right;\">\n",
       "      <th></th>\n",
       "      <th>country</th>\n",
       "      <th>article_name</th>\n",
       "      <th>revision_id</th>\n",
       "      <th>article_quality</th>\n",
       "      <th>population</th>\n",
       "    </tr>\n",
       "  </thead>\n",
       "  <tbody>\n",
       "    <tr>\n",
       "      <th>0</th>\n",
       "      <td>Chad</td>\n",
       "      <td>Bir I of Kanem</td>\n",
       "      <td>355319463</td>\n",
       "      <td>Stub</td>\n",
       "      <td>15.4</td>\n",
       "    </tr>\n",
       "    <tr>\n",
       "      <th>1</th>\n",
       "      <td>Chad</td>\n",
       "      <td>Abdullah II of Kanem</td>\n",
       "      <td>498683267</td>\n",
       "      <td>Stub</td>\n",
       "      <td>15.4</td>\n",
       "    </tr>\n",
       "    <tr>\n",
       "      <th>2</th>\n",
       "      <td>Chad</td>\n",
       "      <td>Salmama II of Kanem</td>\n",
       "      <td>565745353</td>\n",
       "      <td>Stub</td>\n",
       "      <td>15.4</td>\n",
       "    </tr>\n",
       "    <tr>\n",
       "      <th>3</th>\n",
       "      <td>Chad</td>\n",
       "      <td>Kuri I of Kanem</td>\n",
       "      <td>565745365</td>\n",
       "      <td>Stub</td>\n",
       "      <td>15.4</td>\n",
       "    </tr>\n",
       "    <tr>\n",
       "      <th>4</th>\n",
       "      <td>Chad</td>\n",
       "      <td>Mohammed I of Kanem</td>\n",
       "      <td>565745375</td>\n",
       "      <td>Stub</td>\n",
       "      <td>15.4</td>\n",
       "    </tr>\n",
       "  </tbody>\n",
       "</table>\n",
       "</div>"
      ],
      "text/plain": [
       "  country          article_name  revision_id article_quality population\n",
       "0    Chad        Bir I of Kanem    355319463            Stub       15.4\n",
       "1    Chad  Abdullah II of Kanem    498683267            Stub       15.4\n",
       "2    Chad   Salmama II of Kanem    565745353            Stub       15.4\n",
       "3    Chad       Kuri I of Kanem    565745365            Stub       15.4\n",
       "4    Chad   Mohammed I of Kanem    565745375            Stub       15.4"
      ]
     },
     "execution_count": 19,
     "metadata": {},
     "output_type": "execute_result"
    }
   ],
   "source": [
    "result = pd.merge(page_data_tmp, wpds_data_tmp, left_on='country', right_on='Geography')\n",
    "result = result.drop(['Geography'], axis=1)\n",
    "result.columns = ['country', 'article_name', 'revision_id', 'article_quality', 'population']\n",
    "result['population'] = result['population'].str.replace(',', '')\n",
    "result.head()"
   ]
  },
  {
   "cell_type": "code",
   "execution_count": 20,
   "metadata": {
    "collapsed": false
   },
   "outputs": [],
   "source": [
    "result.to_csv('wp_wpds_politicians_by_country.csv', index=False)"
   ]
  },
  {
   "cell_type": "markdown",
   "metadata": {},
   "source": [
    "## Analysis\n",
    "\n",
    "* Top 10 countries by coverage: 10 highest-ranked countries in terms of number of politician articles as a proportion of country population\n",
    "* Bottom 10 countries by coverage: 10 lowest-ranked countries in terms of number of politician articles as a proportion of country population\n",
    "* Top 10 countries by relative quality: 10 highest-ranked countries in terms of the relative proportion of politician articles that are of GA and FA-quality\n",
    "* Bottom 10 countries by relative quality: 10 lowest-ranked countries in terms of the relative proportion of politician articles that are of GA and FA-quality\n",
    "* Geographic regions by coverage: Ranking of geographic regions (in descending order) in terms of the total count of politician articles from countries in each region as a proportion of total regional population\n",
    "* Geographic regions by coverage: Ranking of geographic regions (in descending order) in terms of the relative proportion of politician articles from countries in each region that are of GA and FA-quality"
   ]
  },
  {
   "cell_type": "code",
   "execution_count": 21,
   "metadata": {
    "collapsed": false
   },
   "outputs": [
    {
     "data": {
      "text/html": [
       "<div>\n",
       "<style scoped>\n",
       "    .dataframe tbody tr th:only-of-type {\n",
       "        vertical-align: middle;\n",
       "    }\n",
       "\n",
       "    .dataframe tbody tr th {\n",
       "        vertical-align: top;\n",
       "    }\n",
       "\n",
       "    .dataframe thead th {\n",
       "        text-align: right;\n",
       "    }\n",
       "</style>\n",
       "<table border=\"1\" class=\"dataframe\">\n",
       "  <thead>\n",
       "    <tr style=\"text-align: right;\">\n",
       "      <th></th>\n",
       "      <th>country</th>\n",
       "      <th>article_name</th>\n",
       "      <th>revision_id</th>\n",
       "      <th>article_quality</th>\n",
       "      <th>population</th>\n",
       "    </tr>\n",
       "  </thead>\n",
       "  <tbody>\n",
       "    <tr>\n",
       "      <th>3512</th>\n",
       "      <td>United States</td>\n",
       "      <td>Franklin D. Roosevelt</td>\n",
       "      <td>807395895</td>\n",
       "      <td>FA</td>\n",
       "      <td>328.0</td>\n",
       "    </tr>\n",
       "  </tbody>\n",
       "</table>\n",
       "</div>"
      ],
      "text/plain": [
       "            country           article_name  revision_id article_quality  \\\n",
       "3512  United States  Franklin D. Roosevelt    807395895              FA   \n",
       "\n",
       "      population  \n",
       "3512       328.0  "
      ]
     },
     "execution_count": 21,
     "metadata": {},
     "output_type": "execute_result"
    }
   ],
   "source": [
    "a2_data = pd.read_csv('wp_wpds_politicians_by_country.csv')\n",
    "a2_data.iloc[3527]\n",
    "a2_data.loc[a2_data['article_name'] == 'Franklin D. Roosevelt']"
   ]
  },
  {
   "cell_type": "code",
   "execution_count": 22,
   "metadata": {
    "collapsed": false
   },
   "outputs": [
    {
     "data": {
      "text/html": [
       "<div>\n",
       "<style scoped>\n",
       "    .dataframe tbody tr th:only-of-type {\n",
       "        vertical-align: middle;\n",
       "    }\n",
       "\n",
       "    .dataframe tbody tr th {\n",
       "        vertical-align: top;\n",
       "    }\n",
       "\n",
       "    .dataframe thead th {\n",
       "        text-align: right;\n",
       "    }\n",
       "</style>\n",
       "<table border=\"1\" class=\"dataframe\">\n",
       "  <thead>\n",
       "    <tr style=\"text-align: right;\">\n",
       "      <th></th>\n",
       "      <th>country</th>\n",
       "      <th>article_name</th>\n",
       "      <th>revision_id</th>\n",
       "      <th>article_quality</th>\n",
       "      <th>population</th>\n",
       "    </tr>\n",
       "  </thead>\n",
       "  <tbody>\n",
       "    <tr>\n",
       "      <th>0</th>\n",
       "      <td>Chad</td>\n",
       "      <td>Bir I of Kanem</td>\n",
       "      <td>355319463</td>\n",
       "      <td>Stub</td>\n",
       "      <td>15400000.0</td>\n",
       "    </tr>\n",
       "    <tr>\n",
       "      <th>1</th>\n",
       "      <td>Chad</td>\n",
       "      <td>Abdullah II of Kanem</td>\n",
       "      <td>498683267</td>\n",
       "      <td>Stub</td>\n",
       "      <td>15400000.0</td>\n",
       "    </tr>\n",
       "    <tr>\n",
       "      <th>2</th>\n",
       "      <td>Chad</td>\n",
       "      <td>Salmama II of Kanem</td>\n",
       "      <td>565745353</td>\n",
       "      <td>Stub</td>\n",
       "      <td>15400000.0</td>\n",
       "    </tr>\n",
       "    <tr>\n",
       "      <th>3</th>\n",
       "      <td>Chad</td>\n",
       "      <td>Kuri I of Kanem</td>\n",
       "      <td>565745365</td>\n",
       "      <td>Stub</td>\n",
       "      <td>15400000.0</td>\n",
       "    </tr>\n",
       "    <tr>\n",
       "      <th>4</th>\n",
       "      <td>Chad</td>\n",
       "      <td>Mohammed I of Kanem</td>\n",
       "      <td>565745375</td>\n",
       "      <td>Stub</td>\n",
       "      <td>15400000.0</td>\n",
       "    </tr>\n",
       "  </tbody>\n",
       "</table>\n",
       "</div>"
      ],
      "text/plain": [
       "  country          article_name  revision_id article_quality  population\n",
       "0    Chad        Bir I of Kanem    355319463            Stub  15400000.0\n",
       "1    Chad  Abdullah II of Kanem    498683267            Stub  15400000.0\n",
       "2    Chad   Salmama II of Kanem    565745353            Stub  15400000.0\n",
       "3    Chad       Kuri I of Kanem    565745365            Stub  15400000.0\n",
       "4    Chad   Mohammed I of Kanem    565745375            Stub  15400000.0"
      ]
     },
     "execution_count": 22,
     "metadata": {},
     "output_type": "execute_result"
    }
   ],
   "source": [
    "# For each country, generate: % of articles-per-population\n",
    "\n",
    "# Represent population in actual numbers\n",
    "a2_data['population'] = pd.to_numeric(a2_data['population'])\n",
    "a2_data['population'] = a2_data['population'].apply(lambda x: x*1000000)\n",
    "a2_data.head()"
   ]
  },
  {
   "cell_type": "code",
   "execution_count": 23,
   "metadata": {
    "collapsed": false
   },
   "outputs": [],
   "source": [
    "# Merge count of articles and population\n",
    "a2_data_articles = a2_data.groupby(['country'])['article_name'].agg('count').to_frame()\n",
    "a2_data_population = a2_data.groupby(['country'])['population'].agg(pd.Series.mode).to_frame()"
   ]
  },
  {
   "cell_type": "code",
   "execution_count": 24,
   "metadata": {
    "collapsed": false
   },
   "outputs": [
    {
     "data": {
      "text/html": [
       "<div>\n",
       "<style scoped>\n",
       "    .dataframe tbody tr th:only-of-type {\n",
       "        vertical-align: middle;\n",
       "    }\n",
       "\n",
       "    .dataframe tbody tr th {\n",
       "        vertical-align: top;\n",
       "    }\n",
       "\n",
       "    .dataframe thead th {\n",
       "        text-align: right;\n",
       "    }\n",
       "</style>\n",
       "<table border=\"1\" class=\"dataframe\">\n",
       "  <thead>\n",
       "    <tr style=\"text-align: right;\">\n",
       "      <th></th>\n",
       "      <th>article_name</th>\n",
       "      <th>population</th>\n",
       "    </tr>\n",
       "    <tr>\n",
       "      <th>country</th>\n",
       "      <th></th>\n",
       "      <th></th>\n",
       "    </tr>\n",
       "  </thead>\n",
       "  <tbody>\n",
       "    <tr>\n",
       "      <th>Afghanistan</th>\n",
       "      <td>322</td>\n",
       "      <td>36500000.0</td>\n",
       "    </tr>\n",
       "    <tr>\n",
       "      <th>Albania</th>\n",
       "      <td>457</td>\n",
       "      <td>2900000.0</td>\n",
       "    </tr>\n",
       "    <tr>\n",
       "      <th>Algeria</th>\n",
       "      <td>116</td>\n",
       "      <td>42700000.0</td>\n",
       "    </tr>\n",
       "    <tr>\n",
       "      <th>Andorra</th>\n",
       "      <td>34</td>\n",
       "      <td>80000.0</td>\n",
       "    </tr>\n",
       "    <tr>\n",
       "      <th>Angola</th>\n",
       "      <td>106</td>\n",
       "      <td>30400000.0</td>\n",
       "    </tr>\n",
       "  </tbody>\n",
       "</table>\n",
       "</div>"
      ],
      "text/plain": [
       "             article_name  population\n",
       "country                              \n",
       "Afghanistan           322  36500000.0\n",
       "Albania               457   2900000.0\n",
       "Algeria               116  42700000.0\n",
       "Andorra                34     80000.0\n",
       "Angola                106  30400000.0"
      ]
     },
     "execution_count": 24,
     "metadata": {},
     "output_type": "execute_result"
    }
   ],
   "source": [
    "a2_data_join = pd.merge(a2_data_articles, a2_data_population, on='country')\n",
    "a2_data_join.head()"
   ]
  },
  {
   "cell_type": "code",
   "execution_count": 25,
   "metadata": {
    "collapsed": true
   },
   "outputs": [],
   "source": [
    "a2_data_join['coverage'] = a2_data_join['article_name']/a2_data_join['population']*100"
   ]
  },
  {
   "cell_type": "code",
   "execution_count": 26,
   "metadata": {
    "collapsed": false
   },
   "outputs": [
    {
     "data": {
      "text/html": [
       "<div>\n",
       "<style scoped>\n",
       "    .dataframe tbody tr th:only-of-type {\n",
       "        vertical-align: middle;\n",
       "    }\n",
       "\n",
       "    .dataframe tbody tr th {\n",
       "        vertical-align: top;\n",
       "    }\n",
       "\n",
       "    .dataframe thead th {\n",
       "        text-align: right;\n",
       "    }\n",
       "</style>\n",
       "<table border=\"1\" class=\"dataframe\">\n",
       "  <thead>\n",
       "    <tr style=\"text-align: right;\">\n",
       "      <th></th>\n",
       "      <th>article_count</th>\n",
       "      <th>population</th>\n",
       "      <th>coverage</th>\n",
       "    </tr>\n",
       "    <tr>\n",
       "      <th>country</th>\n",
       "      <th></th>\n",
       "      <th></th>\n",
       "      <th></th>\n",
       "    </tr>\n",
       "  </thead>\n",
       "  <tbody>\n",
       "    <tr>\n",
       "      <th>Afghanistan</th>\n",
       "      <td>322</td>\n",
       "      <td>36500000.0</td>\n",
       "      <td>0.000882</td>\n",
       "    </tr>\n",
       "    <tr>\n",
       "      <th>Albania</th>\n",
       "      <td>457</td>\n",
       "      <td>2900000.0</td>\n",
       "      <td>0.015759</td>\n",
       "    </tr>\n",
       "    <tr>\n",
       "      <th>Algeria</th>\n",
       "      <td>116</td>\n",
       "      <td>42700000.0</td>\n",
       "      <td>0.000272</td>\n",
       "    </tr>\n",
       "    <tr>\n",
       "      <th>Andorra</th>\n",
       "      <td>34</td>\n",
       "      <td>80000.0</td>\n",
       "      <td>0.042500</td>\n",
       "    </tr>\n",
       "    <tr>\n",
       "      <th>Angola</th>\n",
       "      <td>106</td>\n",
       "      <td>30400000.0</td>\n",
       "      <td>0.000349</td>\n",
       "    </tr>\n",
       "  </tbody>\n",
       "</table>\n",
       "</div>"
      ],
      "text/plain": [
       "             article_count  population  coverage\n",
       "country                                         \n",
       "Afghanistan            322  36500000.0  0.000882\n",
       "Albania                457   2900000.0  0.015759\n",
       "Algeria                116  42700000.0  0.000272\n",
       "Andorra                 34     80000.0  0.042500\n",
       "Angola                 106  30400000.0  0.000349"
      ]
     },
     "execution_count": 26,
     "metadata": {},
     "output_type": "execute_result"
    }
   ],
   "source": [
    "a2_data_join.columns = ['article_count', 'population', 'coverage']\n",
    "a2_data_join.head()"
   ]
  },
  {
   "cell_type": "markdown",
   "metadata": {},
   "source": [
    "### Top 10 countries by coverage"
   ]
  },
  {
   "cell_type": "code",
   "execution_count": 27,
   "metadata": {
    "collapsed": false
   },
   "outputs": [
    {
     "data": {
      "text/html": [
       "<div>\n",
       "<style scoped>\n",
       "    .dataframe tbody tr th:only-of-type {\n",
       "        vertical-align: middle;\n",
       "    }\n",
       "\n",
       "    .dataframe tbody tr th {\n",
       "        vertical-align: top;\n",
       "    }\n",
       "\n",
       "    .dataframe thead th {\n",
       "        text-align: right;\n",
       "    }\n",
       "</style>\n",
       "<table border=\"1\" class=\"dataframe\">\n",
       "  <thead>\n",
       "    <tr style=\"text-align: right;\">\n",
       "      <th></th>\n",
       "      <th>article_count</th>\n",
       "      <th>population</th>\n",
       "      <th>coverage</th>\n",
       "    </tr>\n",
       "    <tr>\n",
       "      <th>country</th>\n",
       "      <th></th>\n",
       "      <th></th>\n",
       "      <th></th>\n",
       "    </tr>\n",
       "  </thead>\n",
       "  <tbody>\n",
       "    <tr>\n",
       "      <th>Tuvalu</th>\n",
       "      <td>54</td>\n",
       "      <td>10000.0</td>\n",
       "      <td>0.540000</td>\n",
       "    </tr>\n",
       "    <tr>\n",
       "      <th>Nauru</th>\n",
       "      <td>52</td>\n",
       "      <td>10000.0</td>\n",
       "      <td>0.520000</td>\n",
       "    </tr>\n",
       "    <tr>\n",
       "      <th>San Marino</th>\n",
       "      <td>81</td>\n",
       "      <td>30000.0</td>\n",
       "      <td>0.270000</td>\n",
       "    </tr>\n",
       "    <tr>\n",
       "      <th>Monaco</th>\n",
       "      <td>40</td>\n",
       "      <td>40000.0</td>\n",
       "      <td>0.100000</td>\n",
       "    </tr>\n",
       "    <tr>\n",
       "      <th>Liechtenstein</th>\n",
       "      <td>28</td>\n",
       "      <td>40000.0</td>\n",
       "      <td>0.070000</td>\n",
       "    </tr>\n",
       "    <tr>\n",
       "      <th>Tonga</th>\n",
       "      <td>63</td>\n",
       "      <td>100000.0</td>\n",
       "      <td>0.063000</td>\n",
       "    </tr>\n",
       "    <tr>\n",
       "      <th>Marshall Islands</th>\n",
       "      <td>37</td>\n",
       "      <td>60000.0</td>\n",
       "      <td>0.061667</td>\n",
       "    </tr>\n",
       "    <tr>\n",
       "      <th>Iceland</th>\n",
       "      <td>202</td>\n",
       "      <td>400000.0</td>\n",
       "      <td>0.050500</td>\n",
       "    </tr>\n",
       "    <tr>\n",
       "      <th>Andorra</th>\n",
       "      <td>34</td>\n",
       "      <td>80000.0</td>\n",
       "      <td>0.042500</td>\n",
       "    </tr>\n",
       "    <tr>\n",
       "      <th>Federated States of Micronesia</th>\n",
       "      <td>36</td>\n",
       "      <td>100000.0</td>\n",
       "      <td>0.036000</td>\n",
       "    </tr>\n",
       "  </tbody>\n",
       "</table>\n",
       "</div>"
      ],
      "text/plain": [
       "                                article_count  population  coverage\n",
       "country                                                            \n",
       "Tuvalu                                     54     10000.0  0.540000\n",
       "Nauru                                      52     10000.0  0.520000\n",
       "San Marino                                 81     30000.0  0.270000\n",
       "Monaco                                     40     40000.0  0.100000\n",
       "Liechtenstein                              28     40000.0  0.070000\n",
       "Tonga                                      63    100000.0  0.063000\n",
       "Marshall Islands                           37     60000.0  0.061667\n",
       "Iceland                                   202    400000.0  0.050500\n",
       "Andorra                                    34     80000.0  0.042500\n",
       "Federated States of Micronesia             36    100000.0  0.036000"
      ]
     },
     "execution_count": 27,
     "metadata": {},
     "output_type": "execute_result"
    }
   ],
   "source": [
    "a2_data_join.nlargest(10, 'coverage')"
   ]
  },
  {
   "cell_type": "markdown",
   "metadata": {},
   "source": [
    "### Bottom 10 countries by coverage"
   ]
  },
  {
   "cell_type": "code",
   "execution_count": 28,
   "metadata": {
    "collapsed": false
   },
   "outputs": [
    {
     "data": {
      "text/html": [
       "<div>\n",
       "<style scoped>\n",
       "    .dataframe tbody tr th:only-of-type {\n",
       "        vertical-align: middle;\n",
       "    }\n",
       "\n",
       "    .dataframe tbody tr th {\n",
       "        vertical-align: top;\n",
       "    }\n",
       "\n",
       "    .dataframe thead th {\n",
       "        text-align: right;\n",
       "    }\n",
       "</style>\n",
       "<table border=\"1\" class=\"dataframe\">\n",
       "  <thead>\n",
       "    <tr style=\"text-align: right;\">\n",
       "      <th></th>\n",
       "      <th>article_count</th>\n",
       "      <th>population</th>\n",
       "      <th>coverage</th>\n",
       "    </tr>\n",
       "    <tr>\n",
       "      <th>country</th>\n",
       "      <th></th>\n",
       "      <th></th>\n",
       "      <th></th>\n",
       "    </tr>\n",
       "  </thead>\n",
       "  <tbody>\n",
       "    <tr>\n",
       "      <th>India</th>\n",
       "      <td>985</td>\n",
       "      <td>1.371300e+09</td>\n",
       "      <td>0.000072</td>\n",
       "    </tr>\n",
       "    <tr>\n",
       "      <th>Indonesia</th>\n",
       "      <td>211</td>\n",
       "      <td>2.652000e+08</td>\n",
       "      <td>0.000080</td>\n",
       "    </tr>\n",
       "    <tr>\n",
       "      <th>China</th>\n",
       "      <td>1133</td>\n",
       "      <td>1.393800e+09</td>\n",
       "      <td>0.000081</td>\n",
       "    </tr>\n",
       "    <tr>\n",
       "      <th>Uzbekistan</th>\n",
       "      <td>28</td>\n",
       "      <td>3.290000e+07</td>\n",
       "      <td>0.000085</td>\n",
       "    </tr>\n",
       "    <tr>\n",
       "      <th>Ethiopia</th>\n",
       "      <td>101</td>\n",
       "      <td>1.075000e+08</td>\n",
       "      <td>0.000094</td>\n",
       "    </tr>\n",
       "    <tr>\n",
       "      <th>Korea, North</th>\n",
       "      <td>36</td>\n",
       "      <td>2.560000e+07</td>\n",
       "      <td>0.000141</td>\n",
       "    </tr>\n",
       "    <tr>\n",
       "      <th>Zambia</th>\n",
       "      <td>25</td>\n",
       "      <td>1.770000e+07</td>\n",
       "      <td>0.000141</td>\n",
       "    </tr>\n",
       "    <tr>\n",
       "      <th>Thailand</th>\n",
       "      <td>112</td>\n",
       "      <td>6.620000e+07</td>\n",
       "      <td>0.000169</td>\n",
       "    </tr>\n",
       "    <tr>\n",
       "      <th>Mozambique</th>\n",
       "      <td>58</td>\n",
       "      <td>3.050000e+07</td>\n",
       "      <td>0.000190</td>\n",
       "    </tr>\n",
       "    <tr>\n",
       "      <th>Bangladesh</th>\n",
       "      <td>321</td>\n",
       "      <td>1.664000e+08</td>\n",
       "      <td>0.000193</td>\n",
       "    </tr>\n",
       "  </tbody>\n",
       "</table>\n",
       "</div>"
      ],
      "text/plain": [
       "              article_count    population  coverage\n",
       "country                                            \n",
       "India                   985  1.371300e+09  0.000072\n",
       "Indonesia               211  2.652000e+08  0.000080\n",
       "China                  1133  1.393800e+09  0.000081\n",
       "Uzbekistan               28  3.290000e+07  0.000085\n",
       "Ethiopia                101  1.075000e+08  0.000094\n",
       "Korea, North             36  2.560000e+07  0.000141\n",
       "Zambia                   25  1.770000e+07  0.000141\n",
       "Thailand                112  6.620000e+07  0.000169\n",
       "Mozambique               58  3.050000e+07  0.000190\n",
       "Bangladesh              321  1.664000e+08  0.000193"
      ]
     },
     "execution_count": 28,
     "metadata": {},
     "output_type": "execute_result"
    }
   ],
   "source": [
    "a2_data_join.nsmallest(10, 'coverage')"
   ]
  },
  {
   "cell_type": "code",
   "execution_count": 29,
   "metadata": {
    "collapsed": false
   },
   "outputs": [
    {
     "data": {
      "text/html": [
       "<div>\n",
       "<style scoped>\n",
       "    .dataframe tbody tr th:only-of-type {\n",
       "        vertical-align: middle;\n",
       "    }\n",
       "\n",
       "    .dataframe tbody tr th {\n",
       "        vertical-align: top;\n",
       "    }\n",
       "\n",
       "    .dataframe thead th {\n",
       "        text-align: right;\n",
       "    }\n",
       "</style>\n",
       "<table border=\"1\" class=\"dataframe\">\n",
       "  <thead>\n",
       "    <tr style=\"text-align: right;\">\n",
       "      <th></th>\n",
       "      <th></th>\n",
       "      <th>0</th>\n",
       "    </tr>\n",
       "    <tr>\n",
       "      <th>country</th>\n",
       "      <th>article_quality</th>\n",
       "      <th></th>\n",
       "    </tr>\n",
       "  </thead>\n",
       "  <tbody>\n",
       "    <tr>\n",
       "      <th rowspan=\"4\" valign=\"top\">Afghanistan</th>\n",
       "      <th>C</th>\n",
       "      <td>17</td>\n",
       "    </tr>\n",
       "    <tr>\n",
       "      <th>FA</th>\n",
       "      <td>3</td>\n",
       "    </tr>\n",
       "    <tr>\n",
       "      <th>Start</th>\n",
       "      <td>132</td>\n",
       "    </tr>\n",
       "    <tr>\n",
       "      <th>Stub</th>\n",
       "      <td>170</td>\n",
       "    </tr>\n",
       "    <tr>\n",
       "      <th>Albania</th>\n",
       "      <th>C</th>\n",
       "      <td>49</td>\n",
       "    </tr>\n",
       "  </tbody>\n",
       "</table>\n",
       "</div>"
      ],
      "text/plain": [
       "                               0\n",
       "country     article_quality     \n",
       "Afghanistan C                 17\n",
       "            FA                 3\n",
       "            Start            132\n",
       "            Stub             170\n",
       "Albania     C                 49"
      ]
     },
     "execution_count": 29,
     "metadata": {},
     "output_type": "execute_result"
    }
   ],
   "source": [
    "# For each country, generate: % of high-quality articles\n",
    "# Find # of GA or FA articles, then merge dataframe with a2_data_articles\n",
    "\n",
    "a2_data_quality = a2_data.groupby(['country', 'article_quality']).size().to_frame()\n",
    "a2_data_quality.head()"
   ]
  },
  {
   "cell_type": "code",
   "execution_count": 30,
   "metadata": {
    "collapsed": false
   },
   "outputs": [
    {
     "data": {
      "text/html": [
       "<div>\n",
       "<style scoped>\n",
       "    .dataframe tbody tr th:only-of-type {\n",
       "        vertical-align: middle;\n",
       "    }\n",
       "\n",
       "    .dataframe tbody tr th {\n",
       "        vertical-align: top;\n",
       "    }\n",
       "\n",
       "    .dataframe thead th {\n",
       "        text-align: right;\n",
       "    }\n",
       "</style>\n",
       "<table border=\"1\" class=\"dataframe\">\n",
       "  <thead>\n",
       "    <tr style=\"text-align: right;\">\n",
       "      <th></th>\n",
       "      <th></th>\n",
       "      <th>0</th>\n",
       "    </tr>\n",
       "    <tr>\n",
       "      <th>country</th>\n",
       "      <th>article_quality</th>\n",
       "      <th></th>\n",
       "    </tr>\n",
       "  </thead>\n",
       "  <tbody>\n",
       "  </tbody>\n",
       "</table>\n",
       "</div>"
      ],
      "text/plain": [
       "Empty DataFrame\n",
       "Columns: [0]\n",
       "Index: []"
      ]
     },
     "execution_count": 30,
     "metadata": {},
     "output_type": "execute_result"
    }
   ],
   "source": [
    "# Upon checking, there are no GA article quality\n",
    "a2_data_quality.loc[a2_data_quality.index.get_level_values('article_quality') == 'GA']"
   ]
  },
  {
   "cell_type": "code",
   "execution_count": 31,
   "metadata": {
    "collapsed": false
   },
   "outputs": [],
   "source": [
    "a2_data_quality_fa = a2_data_quality.loc[a2_data_quality.index.get_level_values('article_quality') == 'FA']"
   ]
  },
  {
   "cell_type": "code",
   "execution_count": 32,
   "metadata": {
    "collapsed": false
   },
   "outputs": [
    {
     "data": {
      "text/html": [
       "<div>\n",
       "<style scoped>\n",
       "    .dataframe tbody tr th:only-of-type {\n",
       "        vertical-align: middle;\n",
       "    }\n",
       "\n",
       "    .dataframe tbody tr th {\n",
       "        vertical-align: top;\n",
       "    }\n",
       "\n",
       "    .dataframe thead th {\n",
       "        text-align: right;\n",
       "    }\n",
       "</style>\n",
       "<table border=\"1\" class=\"dataframe\">\n",
       "  <thead>\n",
       "    <tr style=\"text-align: right;\">\n",
       "      <th></th>\n",
       "      <th>0</th>\n",
       "      <th>article_name</th>\n",
       "    </tr>\n",
       "    <tr>\n",
       "      <th>country</th>\n",
       "      <th></th>\n",
       "      <th></th>\n",
       "    </tr>\n",
       "  </thead>\n",
       "  <tbody>\n",
       "    <tr>\n",
       "      <th>Afghanistan</th>\n",
       "      <td>3</td>\n",
       "      <td>322</td>\n",
       "    </tr>\n",
       "    <tr>\n",
       "      <th>Albania</th>\n",
       "      <td>5</td>\n",
       "      <td>457</td>\n",
       "    </tr>\n",
       "    <tr>\n",
       "      <th>Argentina</th>\n",
       "      <td>3</td>\n",
       "      <td>491</td>\n",
       "    </tr>\n",
       "    <tr>\n",
       "      <th>Australia</th>\n",
       "      <td>7</td>\n",
       "      <td>1561</td>\n",
       "    </tr>\n",
       "    <tr>\n",
       "      <th>Austria</th>\n",
       "      <td>1</td>\n",
       "      <td>336</td>\n",
       "    </tr>\n",
       "  </tbody>\n",
       "</table>\n",
       "</div>"
      ],
      "text/plain": [
       "             0  article_name\n",
       "country                     \n",
       "Afghanistan  3           322\n",
       "Albania      5           457\n",
       "Argentina    3           491\n",
       "Australia    7          1561\n",
       "Austria      1           336"
      ]
     },
     "execution_count": 32,
     "metadata": {},
     "output_type": "execute_result"
    }
   ],
   "source": [
    "a2_data_quality_join = pd.merge(a2_data_quality_fa, a2_data_articles, on='country')\n",
    "a2_data_quality_join.head()"
   ]
  },
  {
   "cell_type": "code",
   "execution_count": 33,
   "metadata": {
    "collapsed": false
   },
   "outputs": [],
   "source": [
    "a2_data_quality_join['relative_quality'] = a2_data_quality_join[0]/a2_data_quality_join['article_name']*100\n",
    "a2_data_quality_join.columns = ['fa_count', 'article_count', 'relative_quality']"
   ]
  },
  {
   "cell_type": "markdown",
   "metadata": {},
   "source": [
    "### Top 10 countries by relative quality"
   ]
  },
  {
   "cell_type": "code",
   "execution_count": 34,
   "metadata": {
    "collapsed": false
   },
   "outputs": [
    {
     "data": {
      "text/html": [
       "<div>\n",
       "<style scoped>\n",
       "    .dataframe tbody tr th:only-of-type {\n",
       "        vertical-align: middle;\n",
       "    }\n",
       "\n",
       "    .dataframe tbody tr th {\n",
       "        vertical-align: top;\n",
       "    }\n",
       "\n",
       "    .dataframe thead th {\n",
       "        text-align: right;\n",
       "    }\n",
       "</style>\n",
       "<table border=\"1\" class=\"dataframe\">\n",
       "  <thead>\n",
       "    <tr style=\"text-align: right;\">\n",
       "      <th></th>\n",
       "      <th>fa_count</th>\n",
       "      <th>article_count</th>\n",
       "      <th>relative_quality</th>\n",
       "    </tr>\n",
       "    <tr>\n",
       "      <th>country</th>\n",
       "      <th></th>\n",
       "      <th></th>\n",
       "      <th></th>\n",
       "    </tr>\n",
       "  </thead>\n",
       "  <tbody>\n",
       "    <tr>\n",
       "      <th>Korea, North</th>\n",
       "      <td>2</td>\n",
       "      <td>36</td>\n",
       "      <td>5.555556</td>\n",
       "    </tr>\n",
       "    <tr>\n",
       "      <th>Guinea-Bissau</th>\n",
       "      <td>1</td>\n",
       "      <td>20</td>\n",
       "      <td>5.000000</td>\n",
       "    </tr>\n",
       "    <tr>\n",
       "      <th>Kyrgyzstan</th>\n",
       "      <td>3</td>\n",
       "      <td>70</td>\n",
       "      <td>4.285714</td>\n",
       "    </tr>\n",
       "    <tr>\n",
       "      <th>Qatar</th>\n",
       "      <td>2</td>\n",
       "      <td>50</td>\n",
       "      <td>4.000000</td>\n",
       "    </tr>\n",
       "    <tr>\n",
       "      <th>Ethiopia</th>\n",
       "      <td>3</td>\n",
       "      <td>101</td>\n",
       "      <td>2.970297</td>\n",
       "    </tr>\n",
       "    <tr>\n",
       "      <th>Finland</th>\n",
       "      <td>16</td>\n",
       "      <td>570</td>\n",
       "      <td>2.807018</td>\n",
       "    </tr>\n",
       "    <tr>\n",
       "      <th>Tajikistan</th>\n",
       "      <td>1</td>\n",
       "      <td>39</td>\n",
       "      <td>2.564103</td>\n",
       "    </tr>\n",
       "    <tr>\n",
       "      <th>Saudi Arabia</th>\n",
       "      <td>3</td>\n",
       "      <td>118</td>\n",
       "      <td>2.542373</td>\n",
       "    </tr>\n",
       "    <tr>\n",
       "      <th>Chile</th>\n",
       "      <td>8</td>\n",
       "      <td>348</td>\n",
       "      <td>2.298851</td>\n",
       "    </tr>\n",
       "    <tr>\n",
       "      <th>Denmark</th>\n",
       "      <td>6</td>\n",
       "      <td>287</td>\n",
       "      <td>2.090592</td>\n",
       "    </tr>\n",
       "  </tbody>\n",
       "</table>\n",
       "</div>"
      ],
      "text/plain": [
       "               fa_count  article_count  relative_quality\n",
       "country                                                 \n",
       "Korea, North          2             36          5.555556\n",
       "Guinea-Bissau         1             20          5.000000\n",
       "Kyrgyzstan            3             70          4.285714\n",
       "Qatar                 2             50          4.000000\n",
       "Ethiopia              3            101          2.970297\n",
       "Finland              16            570          2.807018\n",
       "Tajikistan            1             39          2.564103\n",
       "Saudi Arabia          3            118          2.542373\n",
       "Chile                 8            348          2.298851\n",
       "Denmark               6            287          2.090592"
      ]
     },
     "execution_count": 34,
     "metadata": {},
     "output_type": "execute_result"
    }
   ],
   "source": [
    "a2_data_quality_join.nlargest(10, 'relative_quality')"
   ]
  },
  {
   "cell_type": "markdown",
   "metadata": {},
   "source": [
    "### Bottom 10 countries by relative quality"
   ]
  },
  {
   "cell_type": "code",
   "execution_count": 35,
   "metadata": {
    "collapsed": false
   },
   "outputs": [
    {
     "data": {
      "text/html": [
       "<div>\n",
       "<style scoped>\n",
       "    .dataframe tbody tr th:only-of-type {\n",
       "        vertical-align: middle;\n",
       "    }\n",
       "\n",
       "    .dataframe tbody tr th {\n",
       "        vertical-align: top;\n",
       "    }\n",
       "\n",
       "    .dataframe thead th {\n",
       "        text-align: right;\n",
       "    }\n",
       "</style>\n",
       "<table border=\"1\" class=\"dataframe\">\n",
       "  <thead>\n",
       "    <tr style=\"text-align: right;\">\n",
       "      <th></th>\n",
       "      <th>fa_count</th>\n",
       "      <th>article_count</th>\n",
       "      <th>relative_quality</th>\n",
       "    </tr>\n",
       "    <tr>\n",
       "      <th>country</th>\n",
       "      <th></th>\n",
       "      <th></th>\n",
       "      <th></th>\n",
       "    </tr>\n",
       "  </thead>\n",
       "  <tbody>\n",
       "    <tr>\n",
       "      <th>Hungary</th>\n",
       "      <td>1</td>\n",
       "      <td>611</td>\n",
       "      <td>0.163666</td>\n",
       "    </tr>\n",
       "    <tr>\n",
       "      <th>Brazil</th>\n",
       "      <td>1</td>\n",
       "      <td>552</td>\n",
       "      <td>0.181159</td>\n",
       "    </tr>\n",
       "    <tr>\n",
       "      <th>Mexico</th>\n",
       "      <td>2</td>\n",
       "      <td>1077</td>\n",
       "      <td>0.185701</td>\n",
       "    </tr>\n",
       "    <tr>\n",
       "      <th>Belgium</th>\n",
       "      <td>1</td>\n",
       "      <td>520</td>\n",
       "      <td>0.192308</td>\n",
       "    </tr>\n",
       "    <tr>\n",
       "      <th>Taiwan</th>\n",
       "      <td>1</td>\n",
       "      <td>500</td>\n",
       "      <td>0.200000</td>\n",
       "    </tr>\n",
       "    <tr>\n",
       "      <th>Sri Lanka</th>\n",
       "      <td>1</td>\n",
       "      <td>461</td>\n",
       "      <td>0.216920</td>\n",
       "    </tr>\n",
       "    <tr>\n",
       "      <th>Moldova</th>\n",
       "      <td>1</td>\n",
       "      <td>424</td>\n",
       "      <td>0.235849</td>\n",
       "    </tr>\n",
       "    <tr>\n",
       "      <th>Poland</th>\n",
       "      <td>2</td>\n",
       "      <td>805</td>\n",
       "      <td>0.248447</td>\n",
       "    </tr>\n",
       "    <tr>\n",
       "      <th>Ghana</th>\n",
       "      <td>1</td>\n",
       "      <td>393</td>\n",
       "      <td>0.254453</td>\n",
       "    </tr>\n",
       "    <tr>\n",
       "      <th>Netherlands</th>\n",
       "      <td>2</td>\n",
       "      <td>700</td>\n",
       "      <td>0.285714</td>\n",
       "    </tr>\n",
       "  </tbody>\n",
       "</table>\n",
       "</div>"
      ],
      "text/plain": [
       "             fa_count  article_count  relative_quality\n",
       "country                                               \n",
       "Hungary             1            611          0.163666\n",
       "Brazil              1            552          0.181159\n",
       "Mexico              2           1077          0.185701\n",
       "Belgium             1            520          0.192308\n",
       "Taiwan              1            500          0.200000\n",
       "Sri Lanka           1            461          0.216920\n",
       "Moldova             1            424          0.235849\n",
       "Poland              2            805          0.248447\n",
       "Ghana               1            393          0.254453\n",
       "Netherlands         2            700          0.285714"
      ]
     },
     "execution_count": 35,
     "metadata": {},
     "output_type": "execute_result"
    }
   ],
   "source": [
    "a2_data_quality_join.nsmallest(10, 'relative_quality')"
   ]
  },
  {
   "cell_type": "markdown",
   "metadata": {},
   "source": [
    "## Analysis of Region"
   ]
  },
  {
   "cell_type": "code",
   "execution_count": 36,
   "metadata": {
    "collapsed": false
   },
   "outputs": [
    {
     "data": {
      "text/html": [
       "<div>\n",
       "<style scoped>\n",
       "    .dataframe tbody tr th:only-of-type {\n",
       "        vertical-align: middle;\n",
       "    }\n",
       "\n",
       "    .dataframe tbody tr th {\n",
       "        vertical-align: top;\n",
       "    }\n",
       "\n",
       "    .dataframe thead th {\n",
       "        text-align: right;\n",
       "    }\n",
       "</style>\n",
       "<table border=\"1\" class=\"dataframe\">\n",
       "  <thead>\n",
       "    <tr style=\"text-align: right;\">\n",
       "      <th></th>\n",
       "      <th>country</th>\n",
       "      <th>population</th>\n",
       "      <th>region</th>\n",
       "    </tr>\n",
       "  </thead>\n",
       "  <tbody>\n",
       "    <tr>\n",
       "      <th>0</th>\n",
       "      <td>AFRICA</td>\n",
       "      <td>1.284000e+09</td>\n",
       "      <td></td>\n",
       "    </tr>\n",
       "    <tr>\n",
       "      <th>1</th>\n",
       "      <td>Algeria</td>\n",
       "      <td>4.270000e+07</td>\n",
       "      <td></td>\n",
       "    </tr>\n",
       "    <tr>\n",
       "      <th>2</th>\n",
       "      <td>Egypt</td>\n",
       "      <td>9.700000e+07</td>\n",
       "      <td></td>\n",
       "    </tr>\n",
       "    <tr>\n",
       "      <th>3</th>\n",
       "      <td>Libya</td>\n",
       "      <td>6.500000e+06</td>\n",
       "      <td></td>\n",
       "    </tr>\n",
       "    <tr>\n",
       "      <th>4</th>\n",
       "      <td>Morocco</td>\n",
       "      <td>3.520000e+07</td>\n",
       "      <td></td>\n",
       "    </tr>\n",
       "  </tbody>\n",
       "</table>\n",
       "</div>"
      ],
      "text/plain": [
       "   country    population region\n",
       "0   AFRICA  1.284000e+09       \n",
       "1  Algeria  4.270000e+07       \n",
       "2    Egypt  9.700000e+07       \n",
       "3    Libya  6.500000e+06       \n",
       "4  Morocco  3.520000e+07       "
      ]
     },
     "execution_count": 36,
     "metadata": {},
     "output_type": "execute_result"
    }
   ],
   "source": [
    "# For each geographic region, generate: % of articles-per-population, % of high-quality articles\n",
    "\n",
    "# Add column called 'continent', and populate it with the continent for each country\n",
    "wpds_raw = pd.read_csv('WPDS_2018_data.csv')\n",
    "wpds_raw['continent'] = \"\"\n",
    "wpds_raw.columns = ['country', 'population', 'region']\n",
    "wpds_raw['population'] = wpds_raw['population'].str.replace(',', '')\n",
    "wpds_raw['population'] = pd.to_numeric(wpds_raw['population'])\n",
    "wpds_raw['population'] = wpds_raw['population'].apply(lambda x: x*1000000)\n",
    "wpds_raw.head()"
   ]
  },
  {
   "cell_type": "code",
   "execution_count": 37,
   "metadata": {
    "collapsed": false
   },
   "outputs": [
    {
     "name": "stdout",
     "output_type": "stream",
     "text": [
      "  country    population region\n",
      "0  AFRICA  1.284000e+09       \n",
      "             country   population region\n",
      "56  NORTHERN AMERICA  365000000.0       \n",
      "                            country   population region\n",
      "59  LATIN AMERICA AND THE CARIBBEAN  649000000.0       \n",
      "   country    population region\n",
      "95    ASIA  4.536000e+09       \n",
      "    country   population region\n",
      "144  EUROPE  746000000.0       \n",
      "     country  population region\n",
      "189  OCEANIA  41000000.0       \n"
     ]
    }
   ],
   "source": [
    "print(wpds_raw.loc[wpds_raw['country'] == 'AFRICA']) # index 0\n",
    "print(wpds_raw.loc[wpds_raw['country'] == 'NORTHERN AMERICA']) # index 56\n",
    "print(wpds_raw.loc[wpds_raw['country'] == 'LATIN AMERICA AND THE CARIBBEAN']) # index 59\n",
    "print(wpds_raw.loc[wpds_raw['country'] == 'ASIA']) # index 95\n",
    "print(wpds_raw.loc[wpds_raw['country'] == 'EUROPE']) # index 144\n",
    "print(wpds_raw.loc[wpds_raw['country'] == 'OCEANIA']) # index 189"
   ]
  },
  {
   "cell_type": "code",
   "execution_count": 38,
   "metadata": {
    "collapsed": false
   },
   "outputs": [
    {
     "name": "stderr",
     "output_type": "stream",
     "text": [
      "/Library/Frameworks/Python.framework/Versions/3.6/lib/python3.6/site-packages/pandas/core/indexing.py:190: SettingWithCopyWarning: \n",
      "A value is trying to be set on a copy of a slice from a DataFrame\n",
      "\n",
      "See the caveats in the documentation: http://pandas.pydata.org/pandas-docs/stable/indexing.html#indexing-view-versus-copy\n",
      "  self._setitem_with_indexer(indexer, value)\n"
     ]
    }
   ],
   "source": [
    "wpds_raw.region.iloc[0:55] = 'Africa'\n",
    "wpds_raw.region.iloc[56:58] = 'Northern America'\n",
    "wpds_raw.region.iloc[59:94] = 'Latin America and the Caribbean'\n",
    "wpds_raw.region.iloc[95:143] = 'Asia'\n",
    "wpds_raw.region.iloc[144:188] = 'Europe'\n",
    "wpds_raw.region.iloc[188:] = 'Oceania'"
   ]
  },
  {
   "cell_type": "code",
   "execution_count": 39,
   "metadata": {
    "collapsed": false
   },
   "outputs": [
    {
     "data": {
      "text/html": [
       "<div>\n",
       "<style scoped>\n",
       "    .dataframe tbody tr th:only-of-type {\n",
       "        vertical-align: middle;\n",
       "    }\n",
       "\n",
       "    .dataframe tbody tr th {\n",
       "        vertical-align: top;\n",
       "    }\n",
       "\n",
       "    .dataframe thead th {\n",
       "        text-align: right;\n",
       "    }\n",
       "</style>\n",
       "<table border=\"1\" class=\"dataframe\">\n",
       "  <thead>\n",
       "    <tr style=\"text-align: right;\">\n",
       "      <th></th>\n",
       "      <th>country</th>\n",
       "      <th>population</th>\n",
       "      <th>region</th>\n",
       "    </tr>\n",
       "  </thead>\n",
       "  <tbody>\n",
       "    <tr>\n",
       "      <th>0</th>\n",
       "      <td>AFRICA</td>\n",
       "      <td>1.284000e+09</td>\n",
       "      <td>Africa</td>\n",
       "    </tr>\n",
       "    <tr>\n",
       "      <th>1</th>\n",
       "      <td>Algeria</td>\n",
       "      <td>4.270000e+07</td>\n",
       "      <td>Africa</td>\n",
       "    </tr>\n",
       "    <tr>\n",
       "      <th>2</th>\n",
       "      <td>Egypt</td>\n",
       "      <td>9.700000e+07</td>\n",
       "      <td>Africa</td>\n",
       "    </tr>\n",
       "    <tr>\n",
       "      <th>3</th>\n",
       "      <td>Libya</td>\n",
       "      <td>6.500000e+06</td>\n",
       "      <td>Africa</td>\n",
       "    </tr>\n",
       "    <tr>\n",
       "      <th>4</th>\n",
       "      <td>Morocco</td>\n",
       "      <td>3.520000e+07</td>\n",
       "      <td>Africa</td>\n",
       "    </tr>\n",
       "  </tbody>\n",
       "</table>\n",
       "</div>"
      ],
      "text/plain": [
       "   country    population  region\n",
       "0   AFRICA  1.284000e+09  Africa\n",
       "1  Algeria  4.270000e+07  Africa\n",
       "2    Egypt  9.700000e+07  Africa\n",
       "3    Libya  6.500000e+06  Africa\n",
       "4  Morocco  3.520000e+07  Africa"
      ]
     },
     "execution_count": 39,
     "metadata": {},
     "output_type": "execute_result"
    }
   ],
   "source": [
    "wpds_raw.head()"
   ]
  },
  {
   "cell_type": "code",
   "execution_count": 40,
   "metadata": {
    "collapsed": false
   },
   "outputs": [
    {
     "data": {
      "text/html": [
       "<div>\n",
       "<style scoped>\n",
       "    .dataframe tbody tr th:only-of-type {\n",
       "        vertical-align: middle;\n",
       "    }\n",
       "\n",
       "    .dataframe tbody tr th {\n",
       "        vertical-align: top;\n",
       "    }\n",
       "\n",
       "    .dataframe thead th {\n",
       "        text-align: right;\n",
       "    }\n",
       "</style>\n",
       "<table border=\"1\" class=\"dataframe\">\n",
       "  <thead>\n",
       "    <tr style=\"text-align: right;\">\n",
       "      <th></th>\n",
       "      <th>country</th>\n",
       "      <th>article_count</th>\n",
       "      <th>population_x</th>\n",
       "      <th>coverage</th>\n",
       "      <th>population_y</th>\n",
       "      <th>region</th>\n",
       "    </tr>\n",
       "  </thead>\n",
       "  <tbody>\n",
       "    <tr>\n",
       "      <th>0</th>\n",
       "      <td>Afghanistan</td>\n",
       "      <td>322</td>\n",
       "      <td>36500000.0</td>\n",
       "      <td>0.000882</td>\n",
       "      <td>36500000.0</td>\n",
       "      <td>Asia</td>\n",
       "    </tr>\n",
       "    <tr>\n",
       "      <th>1</th>\n",
       "      <td>Albania</td>\n",
       "      <td>457</td>\n",
       "      <td>2900000.0</td>\n",
       "      <td>0.015759</td>\n",
       "      <td>2900000.0</td>\n",
       "      <td>Europe</td>\n",
       "    </tr>\n",
       "    <tr>\n",
       "      <th>2</th>\n",
       "      <td>Algeria</td>\n",
       "      <td>116</td>\n",
       "      <td>42700000.0</td>\n",
       "      <td>0.000272</td>\n",
       "      <td>42700000.0</td>\n",
       "      <td>Africa</td>\n",
       "    </tr>\n",
       "    <tr>\n",
       "      <th>3</th>\n",
       "      <td>Andorra</td>\n",
       "      <td>34</td>\n",
       "      <td>80000.0</td>\n",
       "      <td>0.042500</td>\n",
       "      <td>80000.0</td>\n",
       "      <td>Europe</td>\n",
       "    </tr>\n",
       "    <tr>\n",
       "      <th>4</th>\n",
       "      <td>Angola</td>\n",
       "      <td>106</td>\n",
       "      <td>30400000.0</td>\n",
       "      <td>0.000349</td>\n",
       "      <td>30400000.0</td>\n",
       "      <td>Africa</td>\n",
       "    </tr>\n",
       "  </tbody>\n",
       "</table>\n",
       "</div>"
      ],
      "text/plain": [
       "       country  article_count  population_x  coverage  population_y  region\n",
       "0  Afghanistan            322    36500000.0  0.000882    36500000.0    Asia\n",
       "1      Albania            457     2900000.0  0.015759     2900000.0  Europe\n",
       "2      Algeria            116    42700000.0  0.000272    42700000.0  Africa\n",
       "3      Andorra             34       80000.0  0.042500       80000.0  Europe\n",
       "4       Angola            106    30400000.0  0.000349    30400000.0  Africa"
      ]
     },
     "execution_count": 40,
     "metadata": {},
     "output_type": "execute_result"
    }
   ],
   "source": [
    "a2_data_region_join = pd.merge(a2_data_join, wpds_raw, on='country')\n",
    "a2_data_region_join.head()"
   ]
  },
  {
   "cell_type": "code",
   "execution_count": 41,
   "metadata": {
    "collapsed": false
   },
   "outputs": [],
   "source": [
    "# Merge count of articles and population\n",
    "a2_data_region_groupby = a2_data_region_join.groupby(['region'])['article_count', 'population_x'].agg('sum')"
   ]
  },
  {
   "cell_type": "code",
   "execution_count": 42,
   "metadata": {
    "collapsed": true
   },
   "outputs": [],
   "source": [
    "a2_data_region_groupby['coverage'] = a2_data_region_groupby['article_count']/a2_data_region_groupby['population_x']*100"
   ]
  },
  {
   "cell_type": "code",
   "execution_count": 43,
   "metadata": {
    "collapsed": false
   },
   "outputs": [],
   "source": [
    "a2_data_region_groupby = a2_data_region_groupby.drop(a2_data_region_groupby.index[0])"
   ]
  },
  {
   "cell_type": "markdown",
   "metadata": {},
   "source": [
    "### Geographic regions by coverage"
   ]
  },
  {
   "cell_type": "code",
   "execution_count": 44,
   "metadata": {
    "collapsed": false
   },
   "outputs": [
    {
     "data": {
      "text/html": [
       "<div>\n",
       "<style scoped>\n",
       "    .dataframe tbody tr th:only-of-type {\n",
       "        vertical-align: middle;\n",
       "    }\n",
       "\n",
       "    .dataframe tbody tr th {\n",
       "        vertical-align: top;\n",
       "    }\n",
       "\n",
       "    .dataframe thead th {\n",
       "        text-align: right;\n",
       "    }\n",
       "</style>\n",
       "<table border=\"1\" class=\"dataframe\">\n",
       "  <thead>\n",
       "    <tr style=\"text-align: right;\">\n",
       "      <th></th>\n",
       "      <th>article_count</th>\n",
       "      <th>population_x</th>\n",
       "      <th>coverage</th>\n",
       "    </tr>\n",
       "    <tr>\n",
       "      <th>region</th>\n",
       "      <th></th>\n",
       "      <th></th>\n",
       "      <th></th>\n",
       "    </tr>\n",
       "  </thead>\n",
       "  <tbody>\n",
       "    <tr>\n",
       "      <th>Oceania</th>\n",
       "      <td>4008</td>\n",
       "      <td>8.648000e+07</td>\n",
       "      <td>0.004635</td>\n",
       "    </tr>\n",
       "    <tr>\n",
       "      <th>Northern America</th>\n",
       "      <td>848</td>\n",
       "      <td>3.720000e+07</td>\n",
       "      <td>0.002280</td>\n",
       "    </tr>\n",
       "    <tr>\n",
       "      <th>Europe</th>\n",
       "      <td>15047</td>\n",
       "      <td>6.878900e+08</td>\n",
       "      <td>0.002187</td>\n",
       "    </tr>\n",
       "    <tr>\n",
       "      <th>Latin America and the Caribbean</th>\n",
       "      <td>5043</td>\n",
       "      <td>5.964700e+08</td>\n",
       "      <td>0.000845</td>\n",
       "    </tr>\n",
       "    <tr>\n",
       "      <th>Africa</th>\n",
       "      <td>6483</td>\n",
       "      <td>1.114700e+09</td>\n",
       "      <td>0.000582</td>\n",
       "    </tr>\n",
       "    <tr>\n",
       "      <th>Asia</th>\n",
       "      <td>11088</td>\n",
       "      <td>4.489500e+09</td>\n",
       "      <td>0.000247</td>\n",
       "    </tr>\n",
       "  </tbody>\n",
       "</table>\n",
       "</div>"
      ],
      "text/plain": [
       "                                 article_count  population_x  coverage\n",
       "region                                                                \n",
       "Oceania                                   4008  8.648000e+07  0.004635\n",
       "Northern America                           848  3.720000e+07  0.002280\n",
       "Europe                                   15047  6.878900e+08  0.002187\n",
       "Latin America and the Caribbean           5043  5.964700e+08  0.000845\n",
       "Africa                                    6483  1.114700e+09  0.000582\n",
       "Asia                                     11088  4.489500e+09  0.000247"
      ]
     },
     "execution_count": 44,
     "metadata": {},
     "output_type": "execute_result"
    }
   ],
   "source": [
    "a2_data_region_groupby.nlargest(6, 'coverage')"
   ]
  },
  {
   "cell_type": "code",
   "execution_count": 45,
   "metadata": {
    "collapsed": false
   },
   "outputs": [
    {
     "data": {
      "text/html": [
       "<div>\n",
       "<style scoped>\n",
       "    .dataframe tbody tr th:only-of-type {\n",
       "        vertical-align: middle;\n",
       "    }\n",
       "\n",
       "    .dataframe tbody tr th {\n",
       "        vertical-align: top;\n",
       "    }\n",
       "\n",
       "    .dataframe thead th {\n",
       "        text-align: right;\n",
       "    }\n",
       "</style>\n",
       "<table border=\"1\" class=\"dataframe\">\n",
       "  <thead>\n",
       "    <tr style=\"text-align: right;\">\n",
       "      <th></th>\n",
       "      <th>country</th>\n",
       "      <th>fa_count</th>\n",
       "      <th>article_count</th>\n",
       "      <th>relative_quality</th>\n",
       "      <th>population</th>\n",
       "      <th>region</th>\n",
       "    </tr>\n",
       "  </thead>\n",
       "  <tbody>\n",
       "    <tr>\n",
       "      <th>0</th>\n",
       "      <td>Afghanistan</td>\n",
       "      <td>3</td>\n",
       "      <td>322</td>\n",
       "      <td>0.931677</td>\n",
       "      <td>36500000.0</td>\n",
       "      <td>Asia</td>\n",
       "    </tr>\n",
       "    <tr>\n",
       "      <th>1</th>\n",
       "      <td>Albania</td>\n",
       "      <td>5</td>\n",
       "      <td>457</td>\n",
       "      <td>1.094092</td>\n",
       "      <td>2900000.0</td>\n",
       "      <td>Europe</td>\n",
       "    </tr>\n",
       "    <tr>\n",
       "      <th>2</th>\n",
       "      <td>Argentina</td>\n",
       "      <td>3</td>\n",
       "      <td>491</td>\n",
       "      <td>0.610998</td>\n",
       "      <td>44500000.0</td>\n",
       "      <td>Latin America and the Caribbean</td>\n",
       "    </tr>\n",
       "    <tr>\n",
       "      <th>3</th>\n",
       "      <td>Australia</td>\n",
       "      <td>7</td>\n",
       "      <td>1561</td>\n",
       "      <td>0.448430</td>\n",
       "      <td>24100000.0</td>\n",
       "      <td>Oceania</td>\n",
       "    </tr>\n",
       "    <tr>\n",
       "      <th>4</th>\n",
       "      <td>Austria</td>\n",
       "      <td>1</td>\n",
       "      <td>336</td>\n",
       "      <td>0.297619</td>\n",
       "      <td>8800000.0</td>\n",
       "      <td>Europe</td>\n",
       "    </tr>\n",
       "  </tbody>\n",
       "</table>\n",
       "</div>"
      ],
      "text/plain": [
       "       country  fa_count  article_count  relative_quality  population  \\\n",
       "0  Afghanistan         3            322          0.931677  36500000.0   \n",
       "1      Albania         5            457          1.094092   2900000.0   \n",
       "2    Argentina         3            491          0.610998  44500000.0   \n",
       "3    Australia         7           1561          0.448430  24100000.0   \n",
       "4      Austria         1            336          0.297619   8800000.0   \n",
       "\n",
       "                            region  \n",
       "0                             Asia  \n",
       "1                           Europe  \n",
       "2  Latin America and the Caribbean  \n",
       "3                          Oceania  \n",
       "4                           Europe  "
      ]
     },
     "execution_count": 45,
     "metadata": {},
     "output_type": "execute_result"
    }
   ],
   "source": [
    "# Merge count of quality articles and population\n",
    "a2_data_region_quality_join = pd.merge(a2_data_quality_join, wpds_raw, on='country')\n",
    "a2_data_region_quality_join.head()"
   ]
  },
  {
   "cell_type": "code",
   "execution_count": 46,
   "metadata": {
    "collapsed": false
   },
   "outputs": [
    {
     "data": {
      "text/html": [
       "<div>\n",
       "<style scoped>\n",
       "    .dataframe tbody tr th:only-of-type {\n",
       "        vertical-align: middle;\n",
       "    }\n",
       "\n",
       "    .dataframe tbody tr th {\n",
       "        vertical-align: top;\n",
       "    }\n",
       "\n",
       "    .dataframe thead th {\n",
       "        text-align: right;\n",
       "    }\n",
       "</style>\n",
       "<table border=\"1\" class=\"dataframe\">\n",
       "  <thead>\n",
       "    <tr style=\"text-align: right;\">\n",
       "      <th></th>\n",
       "      <th>fa_count</th>\n",
       "      <th>article_count</th>\n",
       "    </tr>\n",
       "    <tr>\n",
       "      <th>region</th>\n",
       "      <th></th>\n",
       "      <th></th>\n",
       "    </tr>\n",
       "  </thead>\n",
       "  <tbody>\n",
       "    <tr>\n",
       "      <th>Africa</th>\n",
       "      <td>33</td>\n",
       "      <td>3547</td>\n",
       "    </tr>\n",
       "    <tr>\n",
       "      <th>Asia</th>\n",
       "      <td>62</td>\n",
       "      <td>8674</td>\n",
       "    </tr>\n",
       "    <tr>\n",
       "      <th>Europe</th>\n",
       "      <td>88</td>\n",
       "      <td>12197</td>\n",
       "    </tr>\n",
       "    <tr>\n",
       "      <th>Latin America and the Caribbean</th>\n",
       "      <td>23</td>\n",
       "      <td>3749</td>\n",
       "    </tr>\n",
       "    <tr>\n",
       "      <th>Northern America</th>\n",
       "      <td>3</td>\n",
       "      <td>848</td>\n",
       "    </tr>\n",
       "  </tbody>\n",
       "</table>\n",
       "</div>"
      ],
      "text/plain": [
       "                                 fa_count  article_count\n",
       "region                                                  \n",
       "Africa                                 33           3547\n",
       "Asia                                   62           8674\n",
       "Europe                                 88          12197\n",
       "Latin America and the Caribbean        23           3749\n",
       "Northern America                        3            848"
      ]
     },
     "execution_count": 46,
     "metadata": {},
     "output_type": "execute_result"
    }
   ],
   "source": [
    "a2_data_region_quality_groupby = a2_data_region_quality_join.groupby(['region'])['fa_count', 'article_count'].agg('sum')\n",
    "a2_data_region_quality_groupby = a2_data_region_quality_groupby.drop(a2_data_region_quality_groupby.index[0])\n",
    "a2_data_region_quality_groupby.head()"
   ]
  },
  {
   "cell_type": "markdown",
   "metadata": {},
   "source": [
    "### Geographic regions by quality"
   ]
  },
  {
   "cell_type": "code",
   "execution_count": 47,
   "metadata": {
    "collapsed": false
   },
   "outputs": [
    {
     "data": {
      "text/html": [
       "<div>\n",
       "<style scoped>\n",
       "    .dataframe tbody tr th:only-of-type {\n",
       "        vertical-align: middle;\n",
       "    }\n",
       "\n",
       "    .dataframe tbody tr th {\n",
       "        vertical-align: top;\n",
       "    }\n",
       "\n",
       "    .dataframe thead th {\n",
       "        text-align: right;\n",
       "    }\n",
       "</style>\n",
       "<table border=\"1\" class=\"dataframe\">\n",
       "  <thead>\n",
       "    <tr style=\"text-align: right;\">\n",
       "      <th></th>\n",
       "      <th>fa_count</th>\n",
       "      <th>article_count</th>\n",
       "      <th>quality</th>\n",
       "    </tr>\n",
       "    <tr>\n",
       "      <th>region</th>\n",
       "      <th></th>\n",
       "      <th></th>\n",
       "      <th></th>\n",
       "    </tr>\n",
       "  </thead>\n",
       "  <tbody>\n",
       "    <tr>\n",
       "      <th>Africa</th>\n",
       "      <td>33</td>\n",
       "      <td>3547</td>\n",
       "      <td>0.930364</td>\n",
       "    </tr>\n",
       "    <tr>\n",
       "      <th>Europe</th>\n",
       "      <td>88</td>\n",
       "      <td>12197</td>\n",
       "      <td>0.721489</td>\n",
       "    </tr>\n",
       "    <tr>\n",
       "      <th>Asia</th>\n",
       "      <td>62</td>\n",
       "      <td>8674</td>\n",
       "      <td>0.714780</td>\n",
       "    </tr>\n",
       "    <tr>\n",
       "      <th>Oceania</th>\n",
       "      <td>22</td>\n",
       "      <td>3579</td>\n",
       "      <td>0.614697</td>\n",
       "    </tr>\n",
       "    <tr>\n",
       "      <th>Latin America and the Caribbean</th>\n",
       "      <td>23</td>\n",
       "      <td>3749</td>\n",
       "      <td>0.613497</td>\n",
       "    </tr>\n",
       "    <tr>\n",
       "      <th>Northern America</th>\n",
       "      <td>3</td>\n",
       "      <td>848</td>\n",
       "      <td>0.353774</td>\n",
       "    </tr>\n",
       "  </tbody>\n",
       "</table>\n",
       "</div>"
      ],
      "text/plain": [
       "                                 fa_count  article_count   quality\n",
       "region                                                            \n",
       "Africa                                 33           3547  0.930364\n",
       "Europe                                 88          12197  0.721489\n",
       "Asia                                   62           8674  0.714780\n",
       "Oceania                                22           3579  0.614697\n",
       "Latin America and the Caribbean        23           3749  0.613497\n",
       "Northern America                        3            848  0.353774"
      ]
     },
     "execution_count": 47,
     "metadata": {},
     "output_type": "execute_result"
    }
   ],
   "source": [
    "a2_data_region_quality_groupby['quality'] = a2_data_region_quality_groupby['fa_count']/a2_data_region_quality_groupby['article_count']*100\n",
    "a2_data_region_quality_groupby.nlargest(6, 'quality')"
   ]
  },
  {
   "cell_type": "code",
   "execution_count": null,
   "metadata": {
    "collapsed": true
   },
   "outputs": [],
   "source": []
  }
 ],
 "metadata": {
  "kernelspec": {
   "display_name": "Python 3",
   "language": "python",
   "name": "python3"
  },
  "language_info": {
   "codemirror_mode": {
    "name": "ipython",
    "version": 3
   },
   "file_extension": ".py",
   "mimetype": "text/x-python",
   "name": "python",
   "nbconvert_exporter": "python",
   "pygments_lexer": "ipython3",
   "version": "3.6.1"
  }
 },
 "nbformat": 4,
 "nbformat_minor": 0
}
